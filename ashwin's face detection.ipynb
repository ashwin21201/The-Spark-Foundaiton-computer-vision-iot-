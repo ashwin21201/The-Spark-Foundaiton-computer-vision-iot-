{
 "cells": [
  {
   "cell_type": "markdown",
   "metadata": {
    "id": "ZD1EkyISwBJV"
   },
   "source": [
    "<h2> Author- Ashwin Radhakrishnan</h2>\n",
    "<h2><b><u> The sparks foundation</u>&nbsp; <u>IOT and Computer vision</u>;</b></h2>\n",
    "\n",
    "<h2><b><i><u>Task4</u> : Detection of Face mask</i></b></h2>\n",
    "<hr>\n"
   ]
  },
  {
   "cell_type": "markdown",
   "metadata": {},
   "source": [
    "<h1><b>import libraries</b></h1>"
   ]
  },
  {
   "cell_type": "code",
   "execution_count": 5,
   "metadata": {
    "id": "gfpbHLOfmhLc"
   },
   "outputs": [],
   "source": [
    "import cv2,os\n",
    "from keras.models import Sequential, load_model\n",
    "from keras.layers import Dense, Activation, Flatten,Dropout\n",
    "from keras.layers import Conv2D, MaxPooling2D\n",
    "from keras.callbacks import ModelCheckpoint\n",
    "from keras.utils import np_utils\n",
    "from matplotlib import pyplot as plt\n",
    "import numpy as np\n"
   ]
  },
  {
   "cell_type": "markdown",
   "metadata": {},
   "source": [
    "<h1>data preperation</h1>\n"
   ]
  },
  {
   "cell_type": "code",
   "execution_count": 9,
   "metadata": {
    "colab": {
     "base_uri": "https://localhost:8080/"
    },
    "id": "RET8uu-axYaX",
    "outputId": "c90d4b94-dc4b-4be4-9a67-e356a29f809e"
   },
   "outputs": [
    {
     "name": "stdout",
     "output_type": "stream",
     "text": [
      "Categories : ['with mask', 'without mask']\n",
      "Labels     : [0, 1]\n",
      "label_dict : {'with mask': 0, 'without mask': 1}\n",
      "target shape : (1376, 2)\n",
      "data shape   : (1376, 100, 100, 1)\n"
     ]
    }
   ],
   "source": [
    "data_path='dataset'\n",
    "categories=os.listdir(data_path)\n",
    "labels=[i for i in range(len(categories))]\n",
    "label_dict=dict(zip(categories,labels))\n",
    "\n",
    "print(f'Categories : {categories}')\n",
    "print(f'Labels     : {labels}')\n",
    "print(f'label_dict : {label_dict}')\n",
    "\n",
    "img_size=100\n",
    "data=[]\n",
    "target=[]\n",
    "\n",
    "for category in categories:\n",
    "    folder_path=os.path.join(data_path,category)\n",
    "    img_names=os.listdir(folder_path)\n",
    "    for img_name in img_names:\n",
    "        img_path=os.path.join(folder_path,img_name)\n",
    "        img=cv2.imread(img_path)\n",
    "        try:\n",
    "            gray=cv2.cvtColor(img,cv2.COLOR_BGR2GRAY)           \n",
    "            resized=cv2.resize(gray,(img_size,img_size))\n",
    "            data.append(resized)\n",
    "            target.append(label_dict[category])\n",
    "        except Exception as e:\n",
    "            print('Exception:',e)\n",
    "\n",
    "data=np.array(data)/255.0\n",
    "data=np.reshape(data,(data.shape[0],img_size,img_size,1))\n",
    "target=np.array(target)\n",
    "target=np_utils.to_categorical(target)      \n",
    "\n",
    "print(f'target shape : {target.shape}')\n",
    "print(f'data shape   : {data.shape}')\n",
    "\n",
    "from sklearn.model_selection import train_test_split\n",
    "\n",
    "train_data,test_data,train_target,test_target=train_test_split(data,target,test_size=0.1)"
   ]
  },
  {
   "cell_type": "markdown",
   "metadata": {
    "id": "ilpLUexCwN6S"
   },
   "source": [
    "<h1>model construction: using keras</h1> "
   ]
  },
  {
   "cell_type": "code",
   "execution_count": 7,
   "metadata": {
    "id": "m2Q31HuAx12X"
   },
   "outputs": [
    {
     "name": "stdout",
     "output_type": "stream",
     "text": [
      "Model: \"sequential\"\n",
      "_________________________________________________________________\n",
      "Layer (type)                 Output Shape              Param #   \n",
      "=================================================================\n",
      "conv2d (Conv2D)              (None, 98, 98, 100)       1000      \n",
      "_________________________________________________________________\n",
      "activation (Activation)      (None, 98, 98, 100)       0         \n",
      "_________________________________________________________________\n",
      "max_pooling2d (MaxPooling2D) (None, 49, 49, 100)       0         \n",
      "_________________________________________________________________\n",
      "conv2d_1 (Conv2D)            (None, 47, 47, 100)       90100     \n",
      "_________________________________________________________________\n",
      "activation_1 (Activation)    (None, 47, 47, 100)       0         \n",
      "_________________________________________________________________\n",
      "max_pooling2d_1 (MaxPooling2 (None, 23, 23, 100)       0         \n",
      "_________________________________________________________________\n",
      "flatten (Flatten)            (None, 52900)             0         \n",
      "_________________________________________________________________\n",
      "dropout (Dropout)            (None, 52900)             0         \n",
      "_________________________________________________________________\n",
      "dense (Dense)                (None, 50)                2645050   \n",
      "_________________________________________________________________\n",
      "dense_1 (Dense)              (None, 2)                 102       \n",
      "=================================================================\n",
      "Total params: 2,736,252\n",
      "Trainable params: 2,736,252\n",
      "Non-trainable params: 0\n",
      "_________________________________________________________________\n"
     ]
    }
   ],
   "source": [
    "model=Sequential()\n",
    "\n",
    "model.add(Conv2D(100,(3,3),input_shape=data.shape[1:]))\n",
    "model.add(Activation('relu'))\n",
    "model.add(MaxPooling2D(pool_size=(2,2)))\n",
    "#The first CNN layer followed by Relu and MaxPooling layers\n",
    "\n",
    "model.add(Conv2D(100,(3,3)))\n",
    "model.add(Activation('relu'))\n",
    "model.add(MaxPooling2D(pool_size=(2,2)))\n",
    "#The second convolution layer followed by Relu and MaxPooling layers\n",
    "\n",
    "model.add(Flatten())\n",
    "model.add(Dropout(0.5))\n",
    "#Flatten layer to stack the output convolutions from second convolution layer\n",
    "model.add(Dense(50,activation='relu'))\n",
    "#Dense layer of 64 neurons\n",
    "model.add(Dense(2,activation='softmax'))\n",
    "#The Final layer with two outputs for two categories\n",
    "\n",
    "model.compile(loss='binary_crossentropy',optimizer='adam',metrics=['accuracy'])\n",
    "model.summary()"
   ]
  },
  {
   "cell_type": "code",
   "execution_count": 8,
   "metadata": {
    "colab": {
     "base_uri": "https://localhost:8080/"
    },
    "id": "3xDNpB_eyHyO",
    "outputId": "96a91024-d64b-4823-c96f-3d12ab917f2b"
   },
   "outputs": [
    {
     "name": "stdout",
     "output_type": "stream",
     "text": [
      "Epoch 1/20\n",
      "31/31 [==============================] - ETA: 0s - loss: 0.7209 - accuracy: 0.5040\n",
      "Epoch 00001: val_loss improved from inf to 0.66158, saving model to model-001.model\n",
      "WARNING:tensorflow:From C:\\Users\\ashwi\\anaconda3\\lib\\site-packages\\tensorflow\\python\\training\\tracking\\tracking.py:111: Model.state_updates (from tensorflow.python.keras.engine.training) is deprecated and will be removed in a future version.\n",
      "Instructions for updating:\n",
      "This property should not be used in TensorFlow 2.0, as updates are applied automatically.\n",
      "WARNING:tensorflow:From C:\\Users\\ashwi\\anaconda3\\lib\\site-packages\\tensorflow\\python\\training\\tracking\\tracking.py:111: Layer.updates (from tensorflow.python.keras.engine.base_layer) is deprecated and will be removed in a future version.\n",
      "Instructions for updating:\n",
      "This property should not be used in TensorFlow 2.0, as updates are applied automatically.\n",
      "INFO:tensorflow:Assets written to: model-001.model\\assets\n",
      "31/31 [==============================] - 41s 1s/step - loss: 0.7209 - accuracy: 0.5040 - val_loss: 0.6616 - val_accuracy: 0.5685\n",
      "Epoch 2/20\n",
      "31/31 [==============================] - ETA: 0s - loss: 0.5326 - accuracy: 0.7313\n",
      "Epoch 00002: val_loss improved from 0.66158 to 0.46691, saving model to model-002.model\n",
      "INFO:tensorflow:Assets written to: model-002.model\\assets\n",
      "31/31 [==============================] - 38s 1s/step - loss: 0.5326 - accuracy: 0.7313 - val_loss: 0.4669 - val_accuracy: 0.8024\n",
      "Epoch 3/20\n",
      "31/31 [==============================] - ETA: 0s - loss: 0.3446 - accuracy: 0.8535\n",
      "Epoch 00003: val_loss improved from 0.46691 to 0.31613, saving model to model-003.model\n",
      "INFO:tensorflow:Assets written to: model-003.model\\assets\n",
      "31/31 [==============================] - 40s 1s/step - loss: 0.3446 - accuracy: 0.8535 - val_loss: 0.3161 - val_accuracy: 0.8468\n",
      "Epoch 4/20\n",
      "31/31 [==============================] - ETA: 0s - loss: 0.2304 - accuracy: 0.9131\n",
      "Epoch 00004: val_loss improved from 0.31613 to 0.23489, saving model to model-004.model\n",
      "INFO:tensorflow:Assets written to: model-004.model\\assets\n",
      "31/31 [==============================] - 51s 2s/step - loss: 0.2304 - accuracy: 0.9131 - val_loss: 0.2349 - val_accuracy: 0.9032\n",
      "Epoch 5/20\n",
      "31/31 [==============================] - ETA: 0s - loss: 0.1587 - accuracy: 0.9444\n",
      "Epoch 00005: val_loss improved from 0.23489 to 0.20621, saving model to model-005.model\n",
      "INFO:tensorflow:Assets written to: model-005.model\\assets\n",
      "31/31 [==============================] - 39s 1s/step - loss: 0.1587 - accuracy: 0.9444 - val_loss: 0.2062 - val_accuracy: 0.9153\n",
      "Epoch 6/20\n",
      "31/31 [==============================] - ETA: 0s - loss: 0.1191 - accuracy: 0.9646\n",
      "Epoch 00006: val_loss did not improve from 0.20621\n",
      "31/31 [==============================] - 33s 1s/step - loss: 0.1191 - accuracy: 0.9646 - val_loss: 0.2076 - val_accuracy: 0.9274\n",
      "Epoch 7/20\n",
      "31/31 [==============================] - ETA: 0s - loss: 0.0787 - accuracy: 0.9747\n",
      "Epoch 00007: val_loss did not improve from 0.20621\n",
      "31/31 [==============================] - 38s 1s/step - loss: 0.0787 - accuracy: 0.9747 - val_loss: 0.2447 - val_accuracy: 0.9032\n",
      "Epoch 8/20\n",
      "31/31 [==============================] - ETA: 0s - loss: 0.0664 - accuracy: 0.9798\n",
      "Epoch 00008: val_loss improved from 0.20621 to 0.19241, saving model to model-008.model\n",
      "INFO:tensorflow:Assets written to: model-008.model\\assets\n",
      "31/31 [==============================] - 41s 1s/step - loss: 0.0664 - accuracy: 0.9798 - val_loss: 0.1924 - val_accuracy: 0.9274\n",
      "Epoch 9/20\n",
      "31/31 [==============================] - ETA: 0s - loss: 0.0558 - accuracy: 0.9818\n",
      "Epoch 00009: val_loss did not improve from 0.19241\n",
      "31/31 [==============================] - 34s 1s/step - loss: 0.0558 - accuracy: 0.9818 - val_loss: 0.2016 - val_accuracy: 0.9234\n",
      "Epoch 10/20\n",
      "31/31 [==============================] - ETA: 0s - loss: 0.0594 - accuracy: 0.9818\n",
      "Epoch 00010: val_loss improved from 0.19241 to 0.17249, saving model to model-010.model\n",
      "INFO:tensorflow:Assets written to: model-010.model\\assets\n",
      "31/31 [==============================] - 34s 1s/step - loss: 0.0594 - accuracy: 0.9818 - val_loss: 0.1725 - val_accuracy: 0.9476\n",
      "Epoch 11/20\n",
      "31/31 [==============================] - ETA: 0s - loss: 0.0595 - accuracy: 0.9788\n",
      "Epoch 00011: val_loss did not improve from 0.17249\n",
      "31/31 [==============================] - 28s 888ms/step - loss: 0.0595 - accuracy: 0.9788 - val_loss: 0.1750 - val_accuracy: 0.9516\n",
      "Epoch 12/20\n",
      "31/31 [==============================] - ETA: 0s - loss: 0.0445 - accuracy: 0.9818\n",
      "Epoch 00012: val_loss did not improve from 0.17249\n",
      "31/31 [==============================] - 26s 852ms/step - loss: 0.0445 - accuracy: 0.9818 - val_loss: 0.2002 - val_accuracy: 0.9516\n",
      "Epoch 13/20\n",
      "31/31 [==============================] - ETA: 0s - loss: 0.0377 - accuracy: 0.9848\n",
      "Epoch 00013: val_loss did not improve from 0.17249\n",
      "31/31 [==============================] - 25s 806ms/step - loss: 0.0377 - accuracy: 0.9848 - val_loss: 0.2122 - val_accuracy: 0.9435\n",
      "Epoch 14/20\n",
      "31/31 [==============================] - ETA: 0s - loss: 0.0459 - accuracy: 0.9818\n",
      "Epoch 00014: val_loss did not improve from 0.17249\n",
      "31/31 [==============================] - 25s 795ms/step - loss: 0.0459 - accuracy: 0.9818 - val_loss: 0.2537 - val_accuracy: 0.9315\n",
      "Epoch 15/20\n",
      "31/31 [==============================] - ETA: 0s - loss: 0.0324 - accuracy: 0.9879\n",
      "Epoch 00015: val_loss did not improve from 0.17249\n",
      "31/31 [==============================] - 27s 860ms/step - loss: 0.0324 - accuracy: 0.9879 - val_loss: 0.2072 - val_accuracy: 0.9516\n",
      "Epoch 16/20\n",
      "31/31 [==============================] - ETA: 0s - loss: 0.0143 - accuracy: 0.9970\n",
      "Epoch 00016: val_loss did not improve from 0.17249\n",
      "31/31 [==============================] - 27s 876ms/step - loss: 0.0143 - accuracy: 0.9970 - val_loss: 0.2162 - val_accuracy: 0.9476\n",
      "Epoch 17/20\n",
      "31/31 [==============================] - ETA: 0s - loss: 0.0114 - accuracy: 0.9970\n",
      "Epoch 00017: val_loss did not improve from 0.17249\n",
      "31/31 [==============================] - 35s 1s/step - loss: 0.0114 - accuracy: 0.9970 - val_loss: 0.2032 - val_accuracy: 0.9516\n",
      "Epoch 18/20\n",
      "31/31 [==============================] - ETA: 0s - loss: 0.0189 - accuracy: 0.9949\n",
      "Epoch 00018: val_loss did not improve from 0.17249\n",
      "31/31 [==============================] - 29s 942ms/step - loss: 0.0189 - accuracy: 0.9949 - val_loss: 0.2095 - val_accuracy: 0.9435\n",
      "Epoch 19/20\n",
      "31/31 [==============================] - ETA: 0s - loss: 0.0214 - accuracy: 0.9919\n",
      "Epoch 00019: val_loss did not improve from 0.17249\n",
      "31/31 [==============================] - 32s 1s/step - loss: 0.0214 - accuracy: 0.9919 - val_loss: 0.2389 - val_accuracy: 0.9476\n",
      "Epoch 20/20\n",
      "31/31 [==============================] - ETA: 0s - loss: 0.0148 - accuracy: 0.9960\n",
      "Epoch 00020: val_loss did not improve from 0.17249\n",
      "31/31 [==============================] - 30s 978ms/step - loss: 0.0148 - accuracy: 0.9960 - val_loss: 0.2083 - val_accuracy: 0.9556\n"
     ]
    }
   ],
   "source": [
    "checkpoint = ModelCheckpoint('model-{epoch:03d}.model',monitor='val_loss',verbose=1,save_best_only=True,mode='min')\n",
    "history=model.fit(train_data,train_target,epochs=20,validation_split=0.2,callbacks = checkpoint,verbose=1)"
   ]
  },
  {
   "cell_type": "markdown",
   "metadata": {},
   "source": [
    "<br><h3> Upon analysis of the training process we know that the results did not improve beyond that of epoch 10. \n",
    "<hr>"
   ]
  },
  {
   "cell_type": "markdown",
   "metadata": {},
   "source": [
    "<h3> The training process is visualized below. Insights from these graphs will tell us if training was done properly or not</h3><br>"
   ]
  },
  {
   "cell_type": "code",
   "execution_count": 10,
   "metadata": {
    "colab": {
     "base_uri": "https://localhost:8080/",
     "height": 279
    },
    "id": "nF4gXuTIwZnk",
    "outputId": "e86f6a9e-5d18-48c0-a6a3-a1610e7c1d93"
   },
   "outputs": [
    {
     "data": {
      "image/png": "[encoded data removed]",
      "text/plain": [
       "<Figure size 1440x864 with 2 Axes>"
      ]
     },
     "metadata": {
      "needs_background": "light"
     },
     "output_type": "display_data"
    }
   ],
   "source": [
    "plt.figure(figsize = (20,12))\n",
    "\n",
    "plt.subplot(1,2,1)\n",
    "plt.plot(history.history['loss'],'r',label='training loss')\n",
    "plt.plot(history.history['val_loss'],label='validation loss')\n",
    "plt.xlabel('# epochs')\n",
    "plt.ylabel('loss')\n",
    "plt.legend()\n",
    "\n",
    "plt.subplot(1,2,2)\n",
    "plt.plot(history.history['accuracy'],'r',label='training accuracy')\n",
    "plt.plot(history.history['val_accuracy'],label='validation accuracy')\n",
    "plt.xlabel('# epochs')\n",
    "plt.ylabel('loss')\n",
    "plt.legend()\n",
    "\n",
    "plt.show()"
   ]
  },
  {
   "cell_type": "markdown",
   "metadata": {},
   "source": [
    "<h1>Ready. set.. DETECT! &nbsp;&#129313; </h1>"
   ]
  },
  {
   "cell_type": "code",
   "execution_count": 11,
   "metadata": {
    "id": "xlBctQGcyq3r"
   },
   "outputs": [],
   "source": [
    "model = load_model('model-010.model')\n",
    "face_clsfr=cv2.CascadeClassifier('haarcascade_frontalface_default.xml')\n",
    "\n",
    "labels_dict={0:'with_mask',1:'without_mask'}\n",
    "color_dict={0:(0,255,0),1:(0,0,255)}\n",
    "\n",
    "source=cv2.VideoCapture(0)\n",
    "while(True):\n",
    "\n",
    "    ret,img=source.read()\n",
    "    gray=cv2.cvtColor(img,cv2.COLOR_BGR2GRAY)\n",
    "    faces=face_clsfr.detectMultiScale(gray,1.3,5)  \n",
    "\n",
    "    for x,y,w,h in faces:\n",
    "    \n",
    "        face_img=gray[y:y+w,x:x+w]\n",
    "        resized=cv2.resize(face_img,(100,100))\n",
    "        normalized=resized/255.0\n",
    "        reshaped=np.reshape(normalized,(1,100,100,1))\n",
    "        result=model.predict(reshaped)\n",
    "\n",
    "        label=np.argmax(result,axis=1)[0]\n",
    "      \n",
    "        cv2.rectangle(img,(x,y),(x+w,y+h),color_dict[label],2)\n",
    "        cv2.rectangle(img,(x,y-40),(x+w,y),color_dict[label],-1)\n",
    "        cv2.putText(img, labels_dict[label], (x, y-10),cv2.FONT_HERSHEY_SIMPLEX,0.8,(255,255,255),2)\n",
    "        \n",
    "        \n",
    "    cv2.imshow('LIVE',img)\n",
    "    key=cv2.waitKey(1)\n",
    "    \n",
    "    if(key==27):\n",
    "        break\n",
    "        \n",
    "cv2.destroyAllWindows()\n",
    "source.release()"
   ]
  },
  {
   "cell_type": "markdown",
   "metadata": {},
   "source": [
    "<h1> Thank you </h1>"
   ]
  }
 ],
 "metadata": {
  "colab": {
   "name": "1.0 data preprocessing.ipynb",
   "provenance": []
  },
  "kernelspec": {
   "display_name": "Python 3",
   "language": "python",
   "name": "python3"
  },
  "language_info": {
   "codemirror_mode": {
    "name": "ipython",
    "version": 3
   },
   "file_extension": ".py",
   "mimetype": "text/x-python",
   "name": "python",
   "nbconvert_exporter": "python",
   "pygments_lexer": "ipython3",
   "version": "3.8.8"
  }
 },
 "nbformat": 4,
 "nbformat_minor": 1
}
